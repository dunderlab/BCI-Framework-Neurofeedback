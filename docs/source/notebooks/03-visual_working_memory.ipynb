{
 "cells": [
  {
   "cell_type": "markdown",
   "id": "df699823-6060-4d91-a454-b7a070e352b0",
   "metadata": {},
   "source": [
    "# Visual working memory - Change detection task"
   ]
  },
  {
   "cell_type": "markdown",
   "id": "544b691a-05b4-4787-87ab-4371e96b8bfe",
   "metadata": {},
   "source": [
    "## Stmuli delivery"
   ]
  },
  {
   "cell_type": "markdown",
   "id": "b7df29dc-2355-4f11-bf65-a96d014c1802",
   "metadata": {},
   "source": [
    "## Neurofeedback"
   ]
  }
 ],
 "metadata": {
  "kernelspec": {
   "display_name": "Python 3 (ipykernel)",
   "language": "python",
   "name": "python3"
  },
  "language_info": {
   "codemirror_mode": {
    "name": "ipython",
    "version": 3
   },
   "file_extension": ".py",
   "mimetype": "text/x-python",
   "name": "python",
   "nbconvert_exporter": "python",
   "pygments_lexer": "ipython3",
   "version": "3.10.2"
  }
 },
 "nbformat": 4,
 "nbformat_minor": 5
}
