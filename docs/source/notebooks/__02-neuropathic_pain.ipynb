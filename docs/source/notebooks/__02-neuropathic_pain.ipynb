{
 "cells": [
  {
   "cell_type": "markdown",
   "id": "e0f54035-5767-4f1d-ac65-6769bfac513d",
   "metadata": {},
   "source": [
    "# Neuropathic pain"
   ]
  },
  {
   "cell_type": "markdown",
   "id": "421e1dd1-0524-4e46-bc79-5444e98264e5",
   "metadata": {},
   "source": [
    "## Stmimuli delivery"
   ]
  },
  {
   "cell_type": "markdown",
   "id": "b4046434-1aa6-4e66-a2a6-67bceaf0aa6f",
   "metadata": {},
   "source": [
    "## Neurofeedback"
   ]
  },
  {
   "cell_type": "markdown",
   "id": "5618b04e-7d76-4885-ae78-847316109b73",
   "metadata": {},
   "source": []
  }
 ],
 "metadata": {
  "kernelspec": {
   "display_name": "Python 3 (ipykernel)",
   "language": "python",
   "name": "python3"
  },
  "language_info": {
   "codemirror_mode": {
    "name": "ipython",
    "version": 3
   },
   "file_extension": ".py",
   "mimetype": "text/x-python",
   "name": "python",
   "nbconvert_exporter": "python",
   "pygments_lexer": "ipython3",
   "version": "3.10.2"
  }
 },
 "nbformat": 4,
 "nbformat_minor": 5
}
