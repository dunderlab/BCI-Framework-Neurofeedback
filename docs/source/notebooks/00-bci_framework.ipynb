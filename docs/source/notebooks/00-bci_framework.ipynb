{
 "cells": [
  {
   "cell_type": "markdown",
   "id": "fb0464b1-7f0d-46e8-9643-21e969d0dc8d",
   "metadata": {},
   "source": [
    "# BCI-Framework"
   ]
  },
  {
   "cell_type": "code",
   "execution_count": null,
   "id": "327cdb55-02c0-49a2-b38e-6868e456e353",
   "metadata": {},
   "outputs": [],
   "source": []
  }
 ],
 "metadata": {
  "kernelspec": {
   "display_name": "Python 3 (ipykernel)",
   "language": "python",
   "name": "python3"
  },
  "language_info": {
   "codemirror_mode": {
    "name": "ipython",
    "version": 3
   },
   "file_extension": ".py",
   "mimetype": "text/x-python",
   "name": "python",
   "nbconvert_exporter": "python",
   "pygments_lexer": "ipython3",
   "version": "3.10.2"
  }
 },
 "nbformat": 4,
 "nbformat_minor": 5
}
